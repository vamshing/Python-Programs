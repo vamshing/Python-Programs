{
 "cells": [
  {
   "cell_type": "markdown",
   "metadata": {},
   "source": [
    "## Simulated Annealing"
   ]
  },
  {
   "cell_type": "code",
   "execution_count": 37,
   "metadata": {
    "collapsed": false
   },
   "outputs": [
    {
     "name": "stdout",
     "output_type": "stream",
     "text": [
      "\n",
      "Energy =  5.43653619001e-05 at x0 =  720 \n",
      "neighbour radius = 20.0\n",
      "emin =  10.0 \n",
      "emax =  19017881320.2  \n",
      " \n",
      ".!.!.+.+..!.+..!..+.!.+...!.+..!..+.!...+...+..!.+.+..+..!.+..+...!..+..!..+.\n",
      "\n",
      "!...!.!....+..+.+.!..+.!.!..+...!.+.!..!.+.+.+.......+...!...+.!.+...!.+..+.\n",
      "\n",
      ".!.!..+..!..+...!.+.!.....!.+.!.+.+.....!.+...+..!..+.!..+....!..!..+.+..!.\n",
      "\n",
      "..+.!...+.+...+.!.+...+.!..!.+......!.+.+......!.!.!.+..!...+...!...!..+.\n",
      "\n",
      ".........+.!......!..+...!.+..!..+.!.+.!..!.!...+.!.!.+.+.+.!...+...+..!.\n",
      "\n",
      "..+.!.!.+.!.!.+.!..+...!.+......!..!.+.......+....!.!.+.....!...!..!..+.\n",
      "\n",
      ".!....+.!.+.+..+...+.!.+..!.+.!..+....+..!.!..+.!.+..!.+..+.!.+..!..+.!.!..+.!..\n",
      "\n",
      ".+..!..+....+..+.+.!.!...+..+.+.!..+.+.+..!...!.+.+.!..+.+..!....+.+.!.!.+....\n",
      "\n",
      "+...+.!....!.+.+.+...+....!..!..+.....+.....!...+.!.!.!...+.+.....!...\n",
      "\n",
      ".+..!..!.....+.....!....!..+.\n",
      "\n",
      "\n",
      "Best Energy =  -4.20132630774e-10  at x =  0.929404343581 (best solution)\n"
     ]
    }
   ],
   "source": [
    "__author__ = 'Vamshi Guduguntla'\n",
    "\n",
    "import numpy as np\n",
    "import random\n",
    "import sys\n",
    "import math\n",
    "\n",
    "def say(x): \n",
    "    sys.stdout.write(str(x)); sys.stdout.flush()\n",
    "    \n",
    "def P(old,new,t): \n",
    "    return math.exp(float(old-new)/float(t))\n",
    "\n",
    "def f1(x): \n",
    "    return x**2\n",
    "\n",
    "def f2(x): \n",
    "    return (x-2)**2\n",
    "                        \n",
    "def normalize_maxmin():\n",
    "    global max_e,min_e\n",
    "    max_e = 10**5; min_e = 10.0\n",
    "    for i in range(100):\n",
    "        x = random.uniform(10**-5, 10**5)\n",
    "        e_value = f1(x)+f2(x)\n",
    "        if e_value > max_e:\n",
    "            max_e = e_value\n",
    "        elif e_value < min_e:\n",
    "            min_e = e_value\n",
    "\n",
    "def Energy(self): \n",
    "    return ((self**2+(self-2)**2) - min_e)/(max_e - min_e)\n",
    "    \n",
    "def mutate(self,radius): \n",
    "    return random.uniform(max((self-radius),10**-5),min((self+radius),10**5))\n",
    "\n",
    "def simluted_annealing(x0,radius):\n",
    "    s0 = x0; s = s0; e = Energy(s)\n",
    "    sb = s; eb = e\n",
    "    k = 1; kmax = 1000.0\n",
    "    emax = 0.0\n",
    "    while k < kmax and e > emax:\n",
    "        sn = mutate(s,radius)\n",
    "        en = Energy(sn)\n",
    "        if en < eb:\n",
    "            sb = sn\n",
    "            eb = en\n",
    "            say('!')\n",
    "        elif en < e:\n",
    "            s = sn\n",
    "            e = en\n",
    "            say('+')\n",
    "        elif P(e,en,k*(1.0)/kmax) < np.random.rand():\n",
    "            s = sn\n",
    "            e = en\n",
    "            say('?')\n",
    "        say('.')\n",
    "        k += 1\n",
    "        if k % 50 == 0:\n",
    "            print '\\n'\n",
    "    print '\\n'\n",
    "    return sb\n",
    "\n",
    "if __name__ == '__main__':\n",
    "    normalize_maxmin()\n",
    "    x0 = random.randrange(-10**3,10**3)\n",
    "    radius = 20.0\n",
    "    print '\\nEnergy = ',Energy(x0), 'at x0 = ', x0,'\\nneighbour radius =',radius\n",
    "    print 'emin = ',min_e, '\\nemax = ', max_e,' \\n '    \n",
    "    b = simluted_annealing(x0,radius)\n",
    "    print '\\nBest Energy = ',Energy(b), ' at x = ', b,'(best solution)'"
   ]
  },
  {
   "cell_type": "code",
   "execution_count": null,
   "metadata": {
    "collapsed": false
   },
   "outputs": [],
   "source": []
  },
  {
   "cell_type": "code",
   "execution_count": null,
   "metadata": {
    "collapsed": false
   },
   "outputs": [],
   "source": []
  },
  {
   "cell_type": "code",
   "execution_count": null,
   "metadata": {
    "collapsed": false
   },
   "outputs": [],
   "source": []
  },
  {
   "cell_type": "code",
   "execution_count": null,
   "metadata": {
    "collapsed": false
   },
   "outputs": [],
   "source": []
  },
  {
   "cell_type": "code",
   "execution_count": null,
   "metadata": {
    "collapsed": false
   },
   "outputs": [],
   "source": []
  },
  {
   "cell_type": "code",
   "execution_count": null,
   "metadata": {
    "collapsed": true
   },
   "outputs": [],
   "source": []
  }
 ],
 "metadata": {
  "kernelspec": {
   "display_name": "Python 2",
   "language": "python",
   "name": "python2"
  },
  "language_info": {
   "codemirror_mode": {
    "name": "ipython",
    "version": 2
   },
   "file_extension": ".py",
   "mimetype": "text/x-python",
   "name": "python",
   "nbconvert_exporter": "python",
   "pygments_lexer": "ipython2",
   "version": "2.7.6"
  }
 },
 "nbformat": 4,
 "nbformat_minor": 0
}
