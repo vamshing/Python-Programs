{
 "cells": [
  {
   "cell_type": "code",
   "execution_count": 103,
   "metadata": {
    "collapsed": true
   },
   "outputs": [],
   "source": [
    "__author__ = 'Vamshi Guduguntla'\n",
    "__copyright__ = \"NA\"\n",
    "__license__ = \"NA\"\n",
    "__version__ = \"1.0\"\n",
    "\n",
    "from __future__ import print_function, division\n",
    "from time import strftime\n",
    "from pprint import pprint\n",
    "import math,random\n",
    "\n",
    "# Osyczka2\n",
    "\n",
    "# Function value\n",
    "def function_value(dec):\n",
    "    f1 = -(25*(dec[0]-2)**2 + (dec[1]-2)**2 + ((dec[2]-1)**2)*(dec[3]-4)**2 + (dec[4]-1)**2)\n",
    "    f2 = dec[0]**2 + dec[1]**2 + dec[2]**2 + dec[3]**2 + dec[4]**2 + dec[5]**2\n",
    "    return f1,f2 \n",
    "\n",
    "def contraint_ok(dec):\n",
    "    g1 =  dec[0] + dec[1]-2 >= 0 \n",
    "    g2 =  6 - dec[0] - dec[1] >= 0\n",
    "    g3 =  2 - dec[1] + dec[0] >= 0\n",
    "    g4 =  2 - dec[0] + 3 * dec[1] >= 0\n",
    "    g5 =  4 - (dec[2] - 3)**3 + dec[5] - 4 >= 0\n",
    "    g6 =  (dec[4] - 3)**3 + dec[5] -4 >= 0 \n",
    "    return g1 and g2 and g3 and g4 and g5"
   ]
  },
  {
   "cell_type": "code",
   "execution_count": 104,
   "metadata": {
    "collapsed": true
   },
   "outputs": [],
   "source": [
    "#the Model - Schaffer\n",
    "\n",
    "class Osyczka2():\n",
    "    def __init__(self,hi,low,objhi=1.0,objlow=0.0):\n",
    "        self.hi = hi\n",
    "        self.low = low\n",
    "        self.objhi = objhi\n",
    "        self.objlow = objlow\n",
    "        self.minobj = self.objlow\n",
    "        self.maxobj = self.objhi\n",
    "    \n",
    "    def generate_random(self):\n",
    "        return random.randrange(self.low,self.hi,1)\n",
    "    \n",
    "    def neighbour(self,old):\n",
    "        return self.generate_random()\n",
    "    \n",
    "    def norm(self,val):\n",
    "        self.minobj = val if self.minobj > val else self.minobj\n",
    "        self.maxobj = val if self.maxobj < val else self.maxobj\n",
    "        return (val - self.objlow) / (self.objhi - self.objlow)\n",
    "    \n",
    "    def denorm(self,val):\n",
    "        return val * (self.objhi - self.objlow) + self.objlow\n",
    "    \n",
    "    def function(self,decision):\n",
    "        f1,f2 = function_value(decision)\n",
    "        return self.norm(f1+f2)\n",
    "    \n",
    "    def retrieve_objs(self):\n",
    "        return self.minobj,self.maxobj"
   ]
  },
  {
   "cell_type": "code",
   "execution_count": 105,
   "metadata": {
    "collapsed": false
   },
   "outputs": [],
   "source": [
    "# define the initial array\n",
    "def generate_initial():\n",
    "    cntr  = 0\n",
    "    while cntr < 1000 or False:\n",
    "        cntr += 1\n",
    "        i = list()\n",
    "        i.append(Osyczka2(10,0).generate_random())\n",
    "        i.append(Osyczka2(10,0).generate_random())\n",
    "        i.append(Osyczka2(5,1).generate_random())\n",
    "        i.append(Osyczka2(5,1).generate_random())\n",
    "        i.append(Osyczka2(6,0).generate_random())\n",
    "        i.append(Osyczka2(10,0).generate_random())\n",
    "        #print(cntr,contraint_ok(i))\n",
    "        if contraint_ok(i) == True:\n",
    "            break\n",
    "    return i\n",
    "\n",
    "#dec = generate_initial()"
   ]
  },
  {
   "cell_type": "code",
   "execution_count": null,
   "metadata": {
    "collapsed": false
   },
   "outputs": [],
   "source": [
    "def mws(model,val=False,threshold=0.0,max_tries=1000,max_changes=100):\n",
    "    tries = 0\n",
    "    s = generate_initial() #solution = random assignment\n",
    "    \n",
    "    for j in range(max_changes):\n",
    "        e = mode.function(s)\n",
    "        if e < threshold:\n",
    "            return s\n",
    "        c = \n",
    "    "
   ]
  },
  {
   "cell_type": "code",
   "execution_count": null,
   "metadata": {
    "collapsed": true
   },
   "outputs": [],
   "source": []
  }
 ],
 "metadata": {
  "kernelspec": {
   "display_name": "Python 2",
   "language": "python",
   "name": "python2"
  },
  "language_info": {
   "codemirror_mode": {
    "name": "ipython",
    "version": 2
   },
   "file_extension": ".py",
   "mimetype": "text/x-python",
   "name": "python",
   "nbconvert_exporter": "python",
   "pygments_lexer": "ipython2",
   "version": "2.7.10"
  }
 },
 "nbformat": 4,
 "nbformat_minor": 0
}
