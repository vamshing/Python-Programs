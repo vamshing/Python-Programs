{
 "cells": [
  {
   "cell_type": "markdown",
   "metadata": {},
   "source": [
    "## The Birthday Paradox"
   ]
  },
  {
   "cell_type": "markdown",
   "metadata": {},
   "source": [
    "The (so-called) Birthday Paradox:\n",
    "\n",
    "A function called has_duplicates that takes a list and returns True if there is any element that appears more than once. It should not modify the original list.\n",
    "\n",
    "If there are 23 students in your class, what are the chances that two of you have the same birthday? You can estimate this probability by generating random samples of 23 birthdays and checking for matches. \n",
    "\n",
    "***Hint: you can generate random birthdays with the randint function in the random module***\n",
    "\n",
    "You can read about this problem at http://en.wikipedia.org/wiki/Birthday_paradox"
   ]
  },
  {
   "cell_type": "code",
   "execution_count": 4,
   "metadata": {
    "collapsed": false
   },
   "outputs": [],
   "source": [
    "import random"
   ]
  },
  {
   "cell_type": "code",
   "execution_count": 5,
   "metadata": {
    "collapsed": false
   },
   "outputs": [],
   "source": [
    "def generate_list(class_size):\n",
    "    l = []\n",
    "    \"\"\"\n",
    "    param: class_size : Generates a List of random integers of the given size\n",
    "    \"\"\"\n",
    "    for i in range(class_size):\n",
    "        l.append(random.randint(1,365))\n",
    "    return l"
   ]
  },
  {
   "cell_type": "code",
   "execution_count": 6,
   "metadata": {
    "collapsed": false
   },
   "outputs": [],
   "source": [
    "def has_duplicates(lis):\n",
    "    \"\"\"\n",
    "    param: list : Takes the list and checks for the duplicates\n",
    "    \"\"\"\n",
    "    c = 0\n",
    "    for i in range(len(lis)-1):\n",
    "        if lis[i] in lis[(i+1):]:\n",
    "            c += 1\n",
    "    if c >= 1:\n",
    "        return True\n",
    "    else: return False"
   ]
  },
  {
   "cell_type": "code",
   "execution_count": 7,
   "metadata": {
    "collapsed": false
   },
   "outputs": [],
   "source": [
    "def prob_calc():\n",
    "    cntr = 0\n",
    "    class_size = 23\n",
    "    trials = 365\n",
    "    for i in range(trials):\n",
    "        if has_duplicates(generate_list(class_size)):\n",
    "            cntr = cntr + 1\n",
    "    prob = (cntr*1.0)/trials\n",
    "    return prob"
   ]
  },
  {
   "cell_type": "code",
   "execution_count": 8,
   "metadata": {
    "collapsed": false
   },
   "outputs": [
    {
     "name": "stdout",
     "output_type": "stream",
     "text": [
      " Probability of having a duplicate b'day is 0.490410958904\n"
     ]
    }
   ],
   "source": [
    "print \" Probability of having a duplicate b'day is\",prob_calc()"
   ]
  },
  {
   "cell_type": "code",
   "execution_count": null,
   "metadata": {
    "collapsed": false
   },
   "outputs": [],
   "source": []
  },
  {
   "cell_type": "code",
   "execution_count": 89,
   "metadata": {
    "collapsed": false
   },
   "outputs": [],
   "source": []
  },
  {
   "cell_type": "code",
   "execution_count": null,
   "metadata": {
    "collapsed": false
   },
   "outputs": [],
   "source": []
  },
  {
   "cell_type": "code",
   "execution_count": null,
   "metadata": {
    "collapsed": false
   },
   "outputs": [],
   "source": []
  },
  {
   "cell_type": "code",
   "execution_count": null,
   "metadata": {
    "collapsed": true
   },
   "outputs": [],
   "source": []
  }
 ],
 "metadata": {
  "kernelspec": {
   "display_name": "Python 2",
   "language": "python",
   "name": "python2"
  },
  "language_info": {
   "codemirror_mode": {
    "name": "ipython",
    "version": 2
   },
   "file_extension": ".py",
   "mimetype": "text/x-python",
   "name": "python",
   "nbconvert_exporter": "python",
   "pygments_lexer": "ipython2",
   "version": "2.7.6"
  }
 },
 "nbformat": 4,
 "nbformat_minor": 0
}
