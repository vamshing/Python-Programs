{
 "cells": [
  {
   "cell_type": "code",
   "execution_count": null,
   "metadata": {
    "collapsed": false
   },
   "outputs": [],
   "source": [
    "\"\"\"import sys\n",
    "sys.path\n",
    "sys.path.append('/Users/vamshiguduguntla/Documents/Python-Programs/models/')\"\"\""
   ]
  },
  {
   "cell_type": "code",
   "execution_count": null,
   "metadata": {
    "collapsed": false
   },
   "outputs": [],
   "source": [
    "from Golinski import *"
   ]
  },
  {
   "cell_type": "code",
   "execution_count": null,
   "metadata": {
    "collapsed": false
   },
   "outputs": [],
   "source": [
    "__author__ = 'Vamshi Guduguntla'\n",
    "__copyright__ = \"NA\"\n",
    "__license__ = \"NA\"\n",
    "__version__ = \"1.0\"\n",
    "\n",
    "from __future__ import print_function, division\n",
    "from time import strftime\n",
    "from pprint import pprint\n",
    "import math,random,numpy as np\n",
    "\n",
    "class Thing():\n",
    "    id = 0\n",
    "    def __init__(self, **entries):\n",
    "        self.id = Thing.id = Thing.id + 1\n",
    "        self.__dict__.update(entries)\n",
    "        \n",
    "    def __getitem__(self,key):\n",
    "        return self.__dict__.get(key)\n",
    "\n",
    "class DifferentialEvolution:\n",
    "    \n",
    "    \n",
    "    \"\"\"\n",
    "    :param max_repeats          - number of repeats   \n",
    "    :param np                   - number of candidates\n",
    "    :param f                    - extrapolate amount \n",
    "    :param cf                   - prob of cross-over  \n",
    "    :param epsilon              - stopping criteria\n",
    "    :param                      -  \n",
    "    \n",
    "    :func  lo                   - returns the max range of the decision dec\n",
    "    :func  hi                   - returns the min range of the decision dec\n",
    "    :func  decisions            - return list of indexes of the decisions\n",
    "    \n",
    "    :func  de                   - Initiates the DE algo\n",
    "    \"\"\"\n",
    "    \n",
    "    def __init__(self,model,max_repeats=100,np=100,f=0.75,cf=0.3,epsilon=0.01):\n",
    "        \n",
    "        self.notation= \"\"\"Notation:\n",
    "        \"?\" - moved to a worse solution/ random jump\n",
    "        \".\" - solution that does not change\n",
    "        \"+\" - better solution using a local change along one dimension\"\"\"\n",
    "        \n",
    "        \n",
    "        self.max_repeats = max_repeats\n",
    "        self.np = np \n",
    "        self.f = f\n",
    "        self.cf = cf\n",
    "        self.epsilon = epsilon\n",
    "        self.de(model)\n",
    "\n",
    "    \n",
    "    def candidate(self):\n",
    "        something = [self.lo(model,d) + self.n(self.hi(model,d) - self.lo(model,d)) for d in self.decisions()]\n",
    "        new = Thing()\n",
    "        new.have = something\n",
    "        new.score = self.score(new.have) # the distance from hell metric\n",
    "        new.energy = model.norm(new.have)# the normalized energy\n",
    "        return new\n",
    "        \n",
    "    def n(self,maxx):\n",
    "        return int(random.uniform(0,maxx))\n",
    "        \n",
    "    def trim(x,d):\n",
    "        return max(lo(d), min(x, hi(d)))\n",
    "       \n",
    "    def score(self,new): # returns the from hell distance\n",
    "        print(1 - (math.sqrt((model.f1_norm(new))**2 + (model.f2_norm(new))**2 )/ math.sqrt(model.num_objectives)))\n",
    "    \n",
    "    def lo(self,model,d):\n",
    "        return model.dec_low[d]  # returns the max range of the decision index d \n",
    "    \n",
    "    def hi(self,model,d):\n",
    "        return model.dec_high[d] # returns the min range of the decision index d\n",
    "    \n",
    "    def decisions(self):\n",
    "        #stores the list of indexes of the decisions\n",
    "        idx_list = [i for i in range(model.num_decisions)]\n",
    "        return idx_list\n",
    "    \n",
    "    def de(self,model):\n",
    "        \n",
    "        model.reset_baseline()\n",
    "        \n",
    "        print(\"Minimizing \",model.name)\n",
    "        print(\"Objective High :\",model.obj_high)\n",
    "        print(\"Objective Low  :\",model.obj_low)\n",
    "        print(\"\\n\")\n",
    "        print(self.notation)\n",
    "        print(\"\\n\")\n",
    "        \n",
    "        frontier = [self.candidate() for _ in range(self.np)] \n",
    "        \n",
    "        for k in range(self.max_repeats):\n",
    "            total,n = update(self.f,self.cf,self.frontier)\n",
    "            if total/n > (1 - epsilon): \n",
    "                break\n",
    "        return frontier\n",
    "            \n",
    "          \n",
    "        print(\"\\n Result Statistics: \")\n",
    "        print(np.around(best_state,9),\"f1+f2:\",model.function_value(best_state),\"Evals: \",model.evals)\n",
    "        print(\"\\n\")\n",
    "        \n",
    "        \n",
    "        \n",
    "    def update(f,cf,frontier,total = 0.0,n=0):\n",
    "        for x in frontier:\n",
    "            s = x.score\n",
    "            new = extrapolate(frontier,x,f,cf)\n",
    "            if new.score > s:\n",
    "                x.score = new.score\n",
    "                x.have = new.have\n",
    "            total += x.score\n",
    "            n += 1\n",
    "        return total,n\n",
    "\n",
    "    # DE extrapolation-based mutator. Alters a field at probability cf, X + f*(Y - Z)\n",
    "    \n",
    "    def extrapolate(frontier,x,f,cf):\n",
    "        out = Thing(id = one.id,have = copy(one.have))\n",
    "        two,three,four = threeothers(frontier,one)\n",
    "        changed = False\n",
    "        for d in decisions():\n",
    "            x,y,z = two.have[d],three.have[d],four.have[d]\n",
    "            if random.random() < cf:\n",
    "                changed = True\n",
    "                new     = x + f*(y - z)\n",
    "                out.have[d] = trim(new,d)\n",
    "            if not changed:\n",
    "                d = a(decisions())\n",
    "                out.have[d] = two[d]\n",
    "            out.score = score(out)\n",
    "            return out\n",
    "    \n",
    "    def threeothers(lst,avoid):\n",
    "        def oneOther():\n",
    "            x = aviod \n",
    "            while x.id in seen:\n",
    "                x = a(lst)\n",
    "            seen.append(x.id)\n",
    "            return x\n",
    "        seen = [avoid.id]\n",
    "        this = oneOther()\n",
    "        that = oneOther()\n",
    "        theOtherthing = oneOther()\n",
    "        return this,that,theOtherthing\n",
    "    \n",
    "    def a(lst):\n",
    "        return lst[n(len(lst))]"
   ]
  },
  {
   "cell_type": "code",
   "execution_count": null,
   "metadata": {
    "collapsed": false
   },
   "outputs": [],
   "source": [
    "model = Golinski()"
   ]
  },
  {
   "cell_type": "code",
   "execution_count": null,
   "metadata": {
    "collapsed": false
   },
   "outputs": [],
   "source": [
    "DifferentialEvolution(model).candidate()"
   ]
  },
  {
   "cell_type": "code",
   "execution_count": null,
   "metadata": {
    "collapsed": true
   },
   "outputs": [],
   "source": []
  },
  {
   "cell_type": "code",
   "execution_count": null,
   "metadata": {
    "collapsed": true
   },
   "outputs": [],
   "source": []
  },
  {
   "cell_type": "code",
   "execution_count": null,
   "metadata": {
    "collapsed": true
   },
   "outputs": [],
   "source": []
  },
  {
   "cell_type": "code",
   "execution_count": null,
   "metadata": {
    "collapsed": true
   },
   "outputs": [],
   "source": []
  }
 ],
 "metadata": {
  "kernelspec": {
   "display_name": "Python 2",
   "language": "python",
   "name": "python2"
  },
  "language_info": {
   "codemirror_mode": {
    "name": "ipython",
    "version": 2
   },
   "file_extension": ".py",
   "mimetype": "text/x-python",
   "name": "python",
   "nbconvert_exporter": "python",
   "pygments_lexer": "ipython2",
   "version": "2.7.10"
  }
 },
 "nbformat": 4,
 "nbformat_minor": 0
}
